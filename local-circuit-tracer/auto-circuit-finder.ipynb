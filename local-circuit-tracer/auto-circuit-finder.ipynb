{
 "cells": [
  {
   "cell_type": "code",
   "id": "initial_id",
   "metadata": {
    "collapsed": true,
    "ExecuteTime": {
     "end_time": "2025-08-19T12:47:47.842688Z",
     "start_time": "2025-08-19T12:47:47.791955Z"
    }
   },
   "source": [
    "import json\n",
    "import networkx as nx\n",
    "from pathlib import Path\n",
    "from typing import Tuple, Dict, Any, List, Set, Optional\n",
    "\n",
    "\n",
    "# ----------------------\n",
    "# Graph IO\n",
    "# ----------------------\n",
    "def load_graph(json_path: str) -> Tuple[nx.DiGraph, Dict[str, Any]]:\n",
    "    path = Path(json_path)\n",
    "    with open(path, \"r\") as f:\n",
    "        data = json.load(f)\n",
    "\n",
    "    G = nx.DiGraph()\n",
    "    for node in data[\"nodes\"]:\n",
    "        G.add_node(node[\"node_id\"], **node)\n",
    "    for link in data[\"links\"]:\n",
    "        G.add_edge(link[\"source\"], link[\"target\"], **link)\n",
    "\n",
    "    return G, data\n",
    "\n",
    "\n",
    "def save_graph(G: nx.DiGraph, data: Dict[str, Any], out_path: str, graph_metadata_path: str = None) -> None:\n",
    "    out_path = Path(out_path)\n",
    "    slug = out_path.stem\n",
    "\n",
    "    pruned_nodes: List[Dict[str, Any]] = [dict(G.nodes[n]) for n in G.nodes]\n",
    "    pruned_links: List[Dict[str, Any]] = [dict(d) for _, _, d in G.edges(data=True)]\n",
    "\n",
    "    new_data: Dict[str, Any] = data.copy()\n",
    "    new_data[\"nodes\"] = pruned_nodes\n",
    "    new_data[\"links\"] = pruned_links\n",
    "    new_data.setdefault(\"metadata\", {})\n",
    "    new_data[\"metadata\"][\"slug\"] = slug\n",
    "\n",
    "    with open(out_path, \"w\") as f:\n",
    "        json.dump(new_data, f, indent=2)\n",
    "    print(f\"✅ Graph saved to {out_path}\")\n",
    "\n",
    "    if graph_metadata_path:\n",
    "        update_graph_metadata(graph_metadata_path, new_data[\"metadata\"])\n",
    "\n",
    "\n",
    "\n",
    "def update_graph_metadata(graph_metadata_path: str, new_metadata: Dict[str, Any]) -> None:\n",
    "    try:\n",
    "        with open(graph_metadata_path, \"r\") as f:\n",
    "            graph_meta = json.load(f)\n",
    "    except FileNotFoundError:\n",
    "        print(f\"⚠️ Warning: {graph_metadata_path} not found. Creating a new one.\")\n",
    "        graph_meta = {\"graphs\": []}\n",
    "\n",
    "    # Remove any existing entry with the same slug\n",
    "    slug = new_metadata.get(\"slug\")\n",
    "    graph_meta[\"graphs\"] = [g for g in graph_meta[\"graphs\"] if g.get(\"slug\") != slug]\n",
    "\n",
    "    # Try to clone a base entry if available\n",
    "    base_entry = graph_meta[\"graphs\"][0] if graph_meta[\"graphs\"] else {}\n",
    "    new_entry: Dict[str, Any] = dict(base_entry)\n",
    "    new_entry[\"slug\"] = slug\n",
    "\n",
    "    if \"prompt\" in new_metadata:\n",
    "        new_entry[\"prompt\"] = \"pruned:\" + new_metadata[\"prompt\"]\n",
    "    if \"prompt_tokens\" in new_metadata:\n",
    "        new_entry[\"prompt_tokens\"] = new_metadata[\"prompt_tokens\"]\n",
    "    if \"scan\" in new_metadata:\n",
    "        new_entry[\"scan\"] = new_metadata[\"scan\"]\n",
    "    if \"node_threshold\" in new_metadata:\n",
    "        new_entry[\"node_threshold\"] = new_metadata[\"node_threshold\"]\n",
    "\n",
    "    graph_meta[\"graphs\"].append(new_entry)\n",
    "\n",
    "    with open(graph_metadata_path, \"w\") as f:\n",
    "        json.dump(graph_meta, f, indent=2)\n",
    "\n",
    "    print(f\"🧩 Updated graph entry for slug '{slug}' in: {graph_metadata_path}\")\n",
    "\n",
    "\n",
    "# ----------------------\n",
    "# Pruning helpers\n",
    "# ----------------------\n",
    "def prune_edges(G: nx.DiGraph, top_k = 5) -> nx.DiGraph:\n",
    "    to_remove = []\n",
    "    for n in G.nodes():\n",
    "        r = sorted(list(G.edges(n)), key=lambda e: abs(G.get_edge_data(e[0], e[1]).get(\"weight\")))[:-top_k]\n",
    "        to_remove += r\n",
    "    G.remove_edges_from(to_remove)\n",
    "    print(f\"<UNK> Removed {len(to_remove)} edges\")\n",
    "    return G\n",
    "\n",
    "\n",
    "def prune_nodes(G: nx.DiGraph) -> nx.DiGraph:\n",
    "    to_remove = [n for n in G.nodes() if G.nodes[n].get(\"feature_type\") == \"mlp reconstruction error\"]\n",
    "    G.remove_nodes_from(to_remove)\n",
    "    print(f\"<UNK> Removed {len(to_remove)} nodes\")\n",
    "    return G\n",
    "\n",
    "# ----------------------\n",
    "# Circuit helpers\n",
    "# ----------------------\n",
    "def get_circuit_nodes(data: Dict[str, Any]) -> Set[str]:\n",
    "    pinned: str = data.get(\"qParams\", {}).get(\"pinnedIds\", \"\")\n",
    "    return set(pinned.split(\",\")) if pinned else set()\n",
    "\n",
    "\n",
    "def set_circuit(data: Dict[str, Any], node_ids: List[str]) -> Dict[str, Any]:\n",
    "    data.setdefault(\"qParams\", {})\n",
    "    data[\"qParams\"][\"pinnedIds\"] = \",\".join(node_ids)\n",
    "    print(f\"Set circuit with {len(node_ids)} pinned nodes\")\n",
    "    return data"
   ],
   "outputs": [],
   "execution_count": 1
  },
  {
   "metadata": {
    "ExecuteTime": {
     "end_time": "2025-08-19T12:47:47.923564Z",
     "start_time": "2025-08-19T12:47:47.922537Z"
    }
   },
   "cell_type": "code",
   "source": "",
   "id": "eaa9f1f5d2bd98ae",
   "outputs": [],
   "execution_count": null
  },
  {
   "metadata": {
    "ExecuteTime": {
     "end_time": "2025-08-19T13:19:45.693057Z",
     "start_time": "2025-08-19T13:19:37.368178Z"
    }
   },
   "cell_type": "code",
   "source": [
    "G, data = load_graph(\"attribution_output/graph/1755609379.json\")\n",
    "#G = prune_edges(G, top_k=20)\n",
    "G = prune_nodes(G)\n",
    "save_graph(G, data, Path(\"attribution_output/graph/graph_with_circuit.json\"), graph_metadata_path=Path(\"attribution_output/graph/graph-metadata.json\"))"
   ],
   "id": "b4bcc9991365041e",
   "outputs": [
    {
     "name": "stdout",
     "output_type": "stream",
     "text": [
      "<UNK> Removed 764 nodes\n",
      "✅ Graph saved to attribution_output/graph/graph_with_circuit.json\n",
      "🧩 Updated graph entry for slug 'graph_with_circuit' in: attribution_output/graph/graph-metadata.json\n"
     ]
    }
   ],
   "execution_count": 5
  },
  {
   "metadata": {
    "ExecuteTime": {
     "end_time": "2025-08-19T12:47:52.083588Z",
     "start_time": "2025-08-19T12:47:52.082223Z"
    }
   },
   "cell_type": "code",
   "source": "",
   "id": "e63d82588d221f66",
   "outputs": [],
   "execution_count": null
  }
 ],
 "metadata": {
  "kernelspec": {
   "display_name": "Python 3",
   "language": "python",
   "name": "python3"
  },
  "language_info": {
   "codemirror_mode": {
    "name": "ipython",
    "version": 2
   },
   "file_extension": ".py",
   "mimetype": "text/x-python",
   "name": "python",
   "nbconvert_exporter": "python",
   "pygments_lexer": "ipython2",
   "version": "2.7.6"
  }
 },
 "nbformat": 4,
 "nbformat_minor": 5
}
